{
 "cells": [
  {
   "cell_type": "code",
   "execution_count": 31,
   "metadata": {},
   "outputs": [],
   "source": [
    "from matplotlib import pyplot as plt\n",
    "from pathlib import Path\n",
    "import pickle\n",
    "import os\n",
    "from test4 import model\n",
    "import sort_of_clevr2\n",
    "home = str(Path.home())\n"
   ]
  },
  {
   "cell_type": "code",
   "execution_count": 32,
   "metadata": {},
   "outputs": [],
   "source": [
    "##load data\n",
    "train_size = 9800\n",
    "val_size = 200\n",
    "image_size = 75\n",
    "size = 5\n",
    "cloest = 3\n",
    "mode = 'val'\n",
    "# mode = 'train'\n",
    "DATA_PATH = home + '/data/sortofclevr2/' + '_'.join(map(str,[train_size,val_size, image_size, size, cloest]))\n",
    "FILE = 'sort-of-clevr2-{}.pickle'.format(mode)\n",
    "with open(os.path.join(DATA_PATH, FILE), 'rb') as f:\n",
    "    data = pickle.load(f)"
   ]
  },
  {
   "cell_type": "code",
   "execution_count": 50,
   "metadata": {},
   "outputs": [
    {
     "name": "stdout",
     "output_type": "stream",
     "text": [
      "['181018182500rn', 'sortofclevr2', '500', '64', '0.0001', '2', 'inp', '3', '9800', '200', '75', '5', '3', 'cv', '24', '3', '2', '4', 'True', 'te', '8', '128', '1', 'hp', '128', '4', 'gt', '1000', '4', 'fp', '256', '2', '0.2', '3', 'test4']\n",
      "35\n",
      "4\n"
     ]
    },
    {
     "ename": "ValueError",
     "evalue": "invalid literal for int() with base 10: 'cv'",
     "output_type": "error",
     "traceback": [
      "\u001b[0;31m---------------------------------------------------------------------------\u001b[0m",
      "\u001b[0;31mValueError\u001b[0m                                Traceback (most recent call last)",
      "\u001b[0;32m<ipython-input-50-d2381de3d5e6>\u001b[0m in \u001b[0;36m<module>\u001b[0;34m\u001b[0m\n\u001b[1;32m     18\u001b[0m \u001b[0;34m\u001b[0m\u001b[0m\n\u001b[1;32m     19\u001b[0m \u001b[0mchannel_size\u001b[0m\u001b[0;34m,\u001b[0m \u001b[0mtrain_size\u001b[0m\u001b[0;34m,\u001b[0m \u001b[0mtest_size\u001b[0m\u001b[0;34m,\u001b[0m \u001b[0mimage_size\u001b[0m\u001b[0;34m,\u001b[0m \u001b[0msize\u001b[0m\u001b[0;34m,\u001b[0m \u001b[0mclosest\u001b[0m\u001b[0;34m,\u001b[0m \u001b[0mcv_filter\u001b[0m\u001b[0;34m,\u001b[0m \u001b[0mcv_kernel\u001b[0m\u001b[0;34m,\u001b[0m \u001b[0mcv_stride\u001b[0m\u001b[0;34m,\u001b[0m \u001b[0mcv_layer\u001b[0m\u001b[0;34m,\u001b[0m \u001b[0mte_embedding\u001b[0m\u001b[0;34m,\u001b[0m \u001b[0mte_hidden\u001b[0m\u001b[0;34m,\u001b[0m \u001b[0mte_layer\u001b[0m\u001b[0;34m,\u001b[0m  \u001b[0mgt_hidden\u001b[0m\u001b[0;34m,\u001b[0m \u001b[0mgt_layer\u001b[0m\u001b[0;34m,\u001b[0m \u001b[0mfp_hidden\u001b[0m\u001b[0;34m,\u001b[0m \u001b[0mfp_layer\u001b[0m \u001b[0;34m=\u001b[0m\u001b[0;31m \u001b[0m\u001b[0;31m\\\u001b[0m\u001b[0;34m\u001b[0m\u001b[0m\n\u001b[0;32m---> 20\u001b[0;31m \u001b[0mmap\u001b[0m\u001b[0;34m(\u001b[0m\u001b[0mint\u001b[0m\u001b[0;34m,\u001b[0m \u001b[0;34m[\u001b[0m\u001b[0mchannel_size\u001b[0m\u001b[0;34m,\u001b[0m \u001b[0mtrain_size\u001b[0m\u001b[0;34m,\u001b[0m \u001b[0mtest_size\u001b[0m\u001b[0;34m,\u001b[0m \u001b[0mimage_size\u001b[0m\u001b[0;34m,\u001b[0m \u001b[0msize\u001b[0m\u001b[0;34m,\u001b[0m \u001b[0mclosest\u001b[0m\u001b[0;34m,\u001b[0m \u001b[0mcv_filter\u001b[0m\u001b[0;34m,\u001b[0m \u001b[0mcv_kernel\u001b[0m\u001b[0;34m,\u001b[0m \u001b[0mcv_stride\u001b[0m\u001b[0;34m,\u001b[0m \u001b[0mcv_layer\u001b[0m\u001b[0;34m,\u001b[0m \u001b[0mte_embedding\u001b[0m\u001b[0;34m,\u001b[0m \u001b[0mte_hidden\u001b[0m\u001b[0;34m,\u001b[0m \u001b[0mte_layer\u001b[0m\u001b[0;34m,\u001b[0m  \u001b[0mgt_hidden\u001b[0m\u001b[0;34m,\u001b[0m \u001b[0mgt_layer\u001b[0m\u001b[0;34m,\u001b[0m \u001b[0mfp_hidden\u001b[0m\u001b[0;34m,\u001b[0m \u001b[0mfp_layer\u001b[0m\u001b[0;34m]\u001b[0m\u001b[0;34m)\u001b[0m\u001b[0;34m\u001b[0m\u001b[0m\n\u001b[0m\u001b[1;32m     21\u001b[0m \u001b[0mcv_layout\u001b[0m \u001b[0;34m=\u001b[0m \u001b[0;34m[\u001b[0m\u001b[0;34m(\u001b[0m\u001b[0mcv_filter\u001b[0m\u001b[0;34m,\u001b[0m \u001b[0mcv_kernel\u001b[0m\u001b[0;34m,\u001b[0m \u001b[0mcv_stride\u001b[0m\u001b[0;34m)\u001b[0m \u001b[0;32mfor\u001b[0m \u001b[0mi\u001b[0m \u001b[0;32min\u001b[0m \u001b[0mrange\u001b[0m\u001b[0;34m(\u001b[0m\u001b[0mcv_layer\u001b[0m\u001b[0;34m)\u001b[0m\u001b[0;34m]\u001b[0m\u001b[0;34m\u001b[0m\u001b[0m\n\u001b[1;32m     22\u001b[0m \u001b[0mgt_layout\u001b[0m \u001b[0;34m=\u001b[0m \u001b[0;34m[\u001b[0m\u001b[0mgt_hidden\u001b[0m \u001b[0;32mfor\u001b[0m \u001b[0mi\u001b[0m \u001b[0;32min\u001b[0m \u001b[0mrange\u001b[0m\u001b[0;34m(\u001b[0m\u001b[0mgt_layer\u001b[0m\u001b[0;34m)\u001b[0m\u001b[0;34m]\u001b[0m\u001b[0;34m\u001b[0m\u001b[0m\n",
      "\u001b[0;31mValueError\u001b[0m: invalid literal for int() with base 10: 'cv'"
     ]
    }
   ],
   "source": [
    "# model_type = 'test5'\n",
    "# MODEL_PATH = os.path.join(home, 'codes', 'rn', model_type, model_name)\n",
    "\n",
    "\n",
    "load_code = '181018182500rn_sortofclevr2_500_64_0.0001_2_inp_3_9800_200_75_5_3_cv_24_3_2_4_True_te_8_128_1_hp_128_4_gt_1000_4_fp_256_2_0.2_3_test4'\n",
    "load_name = 'conv.pt'\n",
    "print( load_code.split('_'))\n",
    "print(len(['181018182500rn', 'sortofclevr2', '500', '64', '0.0001', '2', 'inp', '3', '9800', '200', '75', '5', '3', 'cv', '24', '3', '2', '4', 'True', 'te', '8', '128', '1', 'hp', '128', '4', 'gt', '1000', '4', 'fp', '256', '2', '0.2', '3', 'test4']))\n",
    "\n",
    "name, dataset, epochs, batch_size, lr, device, \\\n",
    "_, channel_size, a,b,c, train_size, test_size, image_size, size, closest,\\\n",
    "_, cv_filter, cv_kernel, cv_stride, cv_layer, cv_layernorm,\\\n",
    "_, te_embedding, te_hidden, te_layer,\\\n",
    "_, gt_hidden, gt_layer,\\\n",
    "_, fp_hidden, fp_dropout, fp_dropout_rate, fp_layer,\\\n",
    "model_type = load_code.split('_')\n",
    "print(te_layer)\n",
    "\n",
    "channel_size, train_size, test_size, image_size, size, closest, cv_filter, cv_kernel, cv_stride, cv_layer, te_embedding, te_hidden, te_layer,  gt_hidden, gt_layer, fp_hidden, fp_layer = \\\n",
    "map(int, [channel_size, train_size, test_size, image_size, size, closest, cv_filter, cv_kernel, cv_stride, cv_layer, te_embedding, te_hidden, te_layer,  gt_hidden, gt_layer, fp_hidden, fp_layer])\n",
    "cv_layout = [(cv_filter, cv_kernel, cv_stride) for i in range(cv_layer)]\n",
    "gt_layout = [gt_hidden for i in range(gt_layer)]\n",
    "gt_layout.insert(0, (cv_filter + 2) * 2 + te_embedding * 2)\n",
    "fp_layout = [gt_hidden] + [fp_hidden for i in range(fp_layer - 1)] + [sort_of_clevr2.a_size]\n",
    "\n",
    "conv = model.Conv(input_h, input_w, cv_layout, channel_size, cv_layernorm).to(device)\n",
    "g_theta = model.MLP(gt_layout).to(device)\n",
    "f_phi = model.MLP(fp_layout).to(device)\n",
    "text_encoder = model.Text_embedding(train_loader.dataset.c_size, train_loader.dataset.q_size, te_embedding).to(device)\n",
    "# model_name = 'text_encoder.pt'\n",
    "# model_name = 'g_theta.pt'\n",
    "# model_name = 'f_phi.pt'\n",
    "\n",
    "LOAD_PATH = os.path.join(home, 'experiment', 'rn', load_code, load_name)\n",
    "LOAD_PATH"
   ]
  },
  {
   "cell_type": "code",
   "execution_count": 21,
   "metadata": {},
   "outputs": [
    {
     "name": "stderr",
     "output_type": "stream",
     "text": [
      "Clipping input data to the valid range for imshow with RGB data ([0..1] for floats or [0..255] for integers).\n"
     ]
    },
    {
     "data": {
      "text/plain": [
       "<matplotlib.image.AxesImage at 0x7fae584fd668>"
      ]
     },
     "execution_count": 21,
     "metadata": {},
     "output_type": "execute_result"
    },
    {
     "data": {
      "image/png": "[encoded data removed]",
      "text/plain": [
       "<Figure size 432x288 with 1 Axes>"
      ]
     },
     "metadata": {
      "needs_background": "light"
     },
     "output_type": "display_data"
    }
   ],
   "source": [
    "data_num = 0\n",
    "image, nrel, rel = data[data_num]\n",
    "image\n",
    "plt.imshow(image)"
   ]
  }
 ],
 "metadata": {
  "kernelspec": {
   "display_name": "Python [conda env:py36]",
   "language": "python",
   "name": "conda-env-py36-py"
  },
  "language_info": {
   "codemirror_mode": {
    "name": "ipython",
    "version": 3
   },
   "file_extension": ".py",
   "mimetype": "text/x-python",
   "name": "python",
   "nbconvert_exporter": "python",
   "pygments_lexer": "ipython3",
   "version": "3.6.6"
  }
 },
 "nbformat": 4,
 "nbformat_minor": 2
}
